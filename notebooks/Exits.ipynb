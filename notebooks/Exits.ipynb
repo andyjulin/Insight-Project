{
 "cells": [
  {
   "cell_type": "code",
   "execution_count": 293,
   "metadata": {
    "ExecuteTime": {
     "end_time": "2017-06-06T23:48:45.877757Z",
     "start_time": "2017-06-06T23:48:45.873827Z"
    },
    "collapsed": true
   },
   "outputs": [],
   "source": [
    "from bs4 import BeautifulSoup\n",
    "import urllib2\n",
    "import pandas as pd\n",
    "import numpy as np"
   ]
  },
  {
   "cell_type": "code",
   "execution_count": 325,
   "metadata": {
    "ExecuteTime": {
     "end_time": "2017-06-07T00:36:58.401174Z",
     "start_time": "2017-06-07T00:36:58.389429Z"
    },
    "collapsed": true
   },
   "outputs": [],
   "source": [
    "# County codes not listed on Wikipedia pages\n",
    "counties = {\n",
    "'Nevada County, California': u'NEV',\n",
    "'Los Angeles County, California': u'LA',\n",
    "'Contra Costa County, California': u'CC',\n",
    "'Alameda County, California': u'ALA',\n",
    "'Riverside County, California': u'RIV',\n",
    "'Orange County, California': u'ORA',\n",
    "'Solano County, California': u'SOL',\n",
    "'San Diego County, California': u'SD',\n",
    "'San Bernardino County, California': u'SBD',\n",
    "'Napa County, California': u'NAP',\n",
    "'Yolo County, California': u'YOL',\n",
    "'Sierra County, California': u'SIE',\n",
    "'Sacramento County, California': u'SAC',\n",
    "'Placer County, California': u'PLA',\n",
    "}\n",
    "\n",
    "# County codes with no 'County' column on their Wikipedia pages\n",
    "single_county_roads = {\n",
    "    'CA-85': u'SCL',\n",
    "    'I-40': u'SBD',\n",
    "    'CA-55': u'ORA',\n",
    "    'I-105': u'LA',\n",
    "    'I-110': u'LA',\n",
    "    'CA-110': u'LA',    \n",
    "    'CA-170': u'LA',  \n",
    "}"
   ]
  },
  {
   "cell_type": "code",
   "execution_count": 295,
   "metadata": {
    "ExecuteTime": {
     "end_time": "2017-06-06T23:48:47.286429Z",
     "start_time": "2017-06-06T23:48:47.272934Z"
    },
    "collapsed": true
   },
   "outputs": [],
   "source": [
    "i_roads = [\n",
    "    'I-5', 'I-10', 'I-15', 'I-40', 'I-80', 'I-105', 'I-110', 'I-205', 'I-210', 'I-280', 'I-605', 'I-680',\n",
    "]\n",
    "\n",
    "us_roads = [\n",
    "    'US-50', 'US-101',\n",
    "]\n",
    "\n",
    "ca_roads = [\n",
    "    'CA-1',   'CA-4',   'CA-14',  'CA-15',  'CA-22',  'CA-24',  \n",
    "    'CA-41',  'CA-55',  'CA-57',  'CA-58',  'CA-60',  'CA-85',  \n",
    "    'CA-91',  'CA-92',  'CA-99',  'CA-110', 'CA-118',\n",
    "    'CA-120', 'CA-126', 'CA-134', 'CA-170', 'CA-198',  \n",
    "    'CA-215'  \n",
    "]\n",
    "\n",
    "bad_roads = [   \n",
    "    'I-8',  'I-580', \n",
    "]\n",
    "\n",
    "roads = i_roads + us_roads + ca_roads# + bad_roads"
   ]
  },
  {
   "cell_type": "code",
   "execution_count": 336,
   "metadata": {
    "ExecuteTime": {
     "end_time": "2017-06-07T00:43:49.469565Z",
     "start_time": "2017-06-07T00:43:49.390890Z"
    },
    "collapsed": true
   },
   "outputs": [],
   "source": [
    "class Highway:   \n",
    "    def __init__(self, code):        \n",
    "        self.exits = {}\n",
    "        self.code = code\n",
    "        \n",
    "        self.get_html()\n",
    "        \n",
    "        d = self.exits.itervalues().next()\n",
    "        \n",
    "        print '  %6s: %4s - %7s - %s' % (self.code, d[0], d[1], d[2])\n",
    "    \n",
    "\n",
    "    def get_html(self):\n",
    "        s = self.code.split('-')\n",
    "\n",
    "        if s[0] == 'CA':\n",
    "            part = 'California_State_Route_%s' % s[1]\n",
    "        elif s[0] == 'I':\n",
    "            part = 'Interstate_%s_(California)' % s[1]\n",
    "        elif s[0] == 'US':\n",
    "            part = 'U.S._Route_%s_in_California' % s[1]\n",
    "\n",
    "        url = 'https://en.wikipedia.org/wiki/' + part\n",
    "\n",
    "        try:\n",
    "            print 'Checking ', url\n",
    "            f = urllib2.urlopen(url)\n",
    "            el_html = f.read()\n",
    "            f.close()\n",
    "\n",
    "            html = BeautifulSoup(el_html, 'html')\n",
    "            \n",
    "            self.get_exits(html)\n",
    "\n",
    "        except ValueError:\n",
    "            print '\\tUnable to find:', self.code\n",
    "        \n",
    "    def get_exits(self, html):\n",
    "        exit_list = html.find('span', id='Exit_list')\n",
    "        \n",
    "        if exit_list is None:\n",
    "            exit_list = html.find('span', id='Major_intersections')            \n",
    "        \n",
    "        el_table = exit_list.find_next('table')\n",
    "\n",
    "        el_rows = el_table.find_all('tr')\n",
    "\n",
    "        single_county_road = self.code in single_county_roads\n",
    "        county = single_county_roads[self.code] if single_county_road else ''\n",
    "        \n",
    "        for tr in enumerate(el_rows[1:]):\n",
    "            # Check for county listing (first element - spans multiple rows)\n",
    "            if not single_county_road:\n",
    "                for td in tr[1].find_all('td'):                    \n",
    "                    # Some have the county codes listed within the table\n",
    "                    c = td.find('small')\n",
    "                    if c:\n",
    "                        county = c.get_text().split()[0]\n",
    "                        \n",
    "                    # Others are input manually\n",
    "                    c = td.find('a')\n",
    "                    if c != None and c.has_attr('title') and 'County, California' in c['title']:\n",
    "                        if c['title'] in counties:\n",
    "                            county = counties[c['title']]\n",
    "\n",
    "            \n",
    "            # Find columns for exits / Postmile codes\n",
    "            for th in tr[1].find_all('th'):\n",
    "                td_exit = th.find_next_sibling('td')\n",
    "                \n",
    "                # Check for an additional column when both mi / km listed\n",
    "                if self.code in km_highways:\n",
    "                    td_exit = td_exit.find_next_sibling('td')                    \n",
    "                                \n",
    "                # Check for blank cells for longer exits\n",
    "                td_location = td_exit.find_next_sibling('td') if td_exit is not None else None\n",
    "\n",
    "                postmile = th.get_text()\n",
    "                exit = td_exit.get_text() if td_exit is not None else ''\n",
    "                location = td_location.get_text().strip() if td_location is not None else ''\n",
    "                \n",
    "                # Just take beginning of Postmile code stretch\n",
    "                if '.' in postmile:\n",
    "                    postmile = postmile[:postmile.index('.') + 3]\n",
    "\n",
    "                # Just take beginning of Exit name listing\n",
    "                if len(postmile) < 2 or len(exit.split()) > 1:\n",
    "                    break\n",
    "                \n",
    "                # Only care about initial exits\n",
    "                if exit != '':\n",
    "                    if len(exit) == 1 or len(exit) == 2 and exit[1].isalpha():\n",
    "                        exit = '0' + exit\n",
    "                        \n",
    "                    self.exits[exit] = [county, postmile, location]\n"
   ]
  },
  {
   "cell_type": "code",
   "execution_count": 337,
   "metadata": {
    "ExecuteTime": {
     "end_time": "2017-06-07T00:43:59.698302Z",
     "start_time": "2017-06-07T00:43:51.279570Z"
    }
   },
   "outputs": [
    {
     "name": "stdout",
     "output_type": "stream",
     "text": [
      "Checking  https://en.wikipedia.org/wiki/Interstate_5_(California)\n",
      "     I-5:  FRE -   29.96 - SR 33 north (Derrick Avenue) – Mendota\n",
      "Checking  https://en.wikipedia.org/wiki/Interstate_10_(California)\n",
      "    I-10:  RIV -  216.76 - Ford Dry Lake Road\n",
      "Checking  https://en.wikipedia.org/wiki/Interstate_15_(California)\n",
      "    I-15:  SBD -  212.76 - Field Road\n",
      "Checking  https://en.wikipedia.org/wiki/Interstate_40_(California)\n",
      "    I-40:  SBD -    2.35 - Marine Corps Logistics Base\n",
      "Checking  https://en.wikipedia.org/wiki/Interstate_80_(California)\n",
      "    I-80:  SOL -   29.27 - Magazine Street\n",
      "Checking  https://en.wikipedia.org/wiki/Interstate_105_(California)\n",
      "   I-105:   LA -   R3.05 - Prairie Avenue, Hawthorne Boulevard- The Forum\n",
      "Checking  https://en.wikipedia.org/wiki/Interstate_110_(California)\n",
      "   I-110:   LA -   29.50 - York Boulevard\n",
      "Checking  https://en.wikipedia.org/wiki/Interstate_205_(California)\n",
      "   I-205:   SJ -    1.38 - Mountain House Parkway\n",
      "Checking  https://en.wikipedia.org/wiki/Interstate_210_(California)\n",
      "   I-210:  SBD -   63.80 - I-15 (Ontario Freeway) – Barstow, San Diego\n",
      "Checking  https://en.wikipedia.org/wiki/Interstate_280_(California)\n",
      "   I-280:   SM -  R25.28 - SR 1 south – Pacifica\n",
      "Checking  https://en.wikipedia.org/wiki/Interstate_605_(California)\n",
      "   I-605:   LA -   23.79 - Lower Azusa Road, Los Angeles Street\n",
      "Checking  https://en.wikipedia.org/wiki/Interstate_680_(California)\n",
      "   I-680:   CC -   24.26 - Marina Vista Road, Waterfront Road – Martinez\n",
      "Checking  https://en.wikipedia.org/wiki/U.S._Route_50_in_California\n",
      "   US-50:   ED -    0.86 - Latrobe Road, El Dorado Hills Boulevard\n",
      "Checking  https://en.wikipedia.org/wiki/U.S._Route_101_in_California\n",
      "  US-101:  MRN -   12.69 - SR 116 west (Gravenstein Highway) – Rohnert Park, Sebastopol, Cotati\n",
      "Checking  https://en.wikipedia.org/wiki/California_State_Route_1\n",
      "    CA-1:  SLO -   29.08 - Osos Street, Santa Rosa Street\n",
      "Checking  https://en.wikipedia.org/wiki/California_State_Route_4\n",
      "    CA-4:   CC -   31.13 - SR 160 north – Rio Vista, Sacramento\n",
      "Checking  https://en.wikipedia.org/wiki/California_State_Route_14\n",
      "   CA-14:   LA -  R69.99 - Avenue H\n",
      "Checking  https://en.wikipedia.org/wiki/California_State_Route_15\n",
      "   CA-15:  SBD -  212.76 - Field Road\n",
      "Checking  https://en.wikipedia.org/wiki/California_State_Route_22\n",
      "   CA-22:  ORA -   R0.37 - I-405 north (San Diego Freeway) / I-605 north (San Gabriel River Freeway) – Santa Monica\n",
      "Checking  https://en.wikipedia.org/wiki/California_State_Route_24\n",
      "   CA-24:  ALA -    2.35 - Martin Luther King Jr Way, 51st Street\n",
      "Checking  https://en.wikipedia.org/wiki/California_State_Route_41\n",
      "   CA-41:  FRE -  R31.68 - Friant Road, Blackstone Avenue – Millerton Lake\n",
      "Checking  https://en.wikipedia.org/wiki/California_State_Route_55\n",
      "   CA-55:  ORA -    2.77 - Victoria Street, 22nd Street\n",
      "Checking  https://en.wikipedia.org/wiki/California_State_Route_57\n",
      "   CA-57:   LA -   R8.71 - Via Verde / Raging Waters Drive\n",
      "Checking  https://en.wikipedia.org/wiki/California_State_Route_58\n",
      "   CA-58:  KER -  R94.16 - Tehachapi Boulevard (SR 58 Bus.)\n",
      "Checking  https://en.wikipedia.org/wiki/California_State_Route_60\n",
      "   CA-60:  RIV -  R38.34 - I-215 south (Escondido Freeway) – San Diego\n",
      "Checking  https://en.wikipedia.org/wiki/California_State_Route_85\n",
      "   CA-85:  SCL -  R21.75 - SR 82 (El Camino Real) / Grant Road – Mountain View, Sunnyvale\n",
      "Checking  https://en.wikipedia.org/wiki/California_State_Route_91\n",
      "   CA-91:   LA -   R9.16 - Wilmington Avenue\n",
      "Checking  https://en.wikipedia.org/wiki/California_State_Route_92\n",
      "   CA-92:   SM -  R10.56 - Alameda de las Pulgas\n",
      "Checking  https://en.wikipedia.org/wiki/California_State_Route_99\n",
      "   CA-99:  STA -   R6.75 - Taylor Road (SR 99 Bus. south)\n",
      "Checking  https://en.wikipedia.org/wiki/California_State_Route_110\n",
      "  CA-110:   LA -   29.50 - York Boulevard\n",
      "Checking  https://en.wikipedia.org/wiki/California_State_Route_118\n",
      "  CA-118:  VEN -  R24.81 - Erringer Road\n",
      "Checking  https://en.wikipedia.org/wiki/California_State_Route_120\n",
      "  CA-120:   SJ -   R3.32 - Airport Way (CR J3) – Sharpe Depot\n",
      "Checking  https://en.wikipedia.org/wiki/California_State_Route_126\n",
      "  CA-126:  VEN -  R11.37 - Palm Avenue\n",
      "Checking  https://en.wikipedia.org/wiki/California_State_Route_134\n",
      "  CA-134:  VEN -    7.89 - Wendy Drive – Newbury Park\n",
      "Checking  https://en.wikipedia.org/wiki/California_State_Route_170\n",
      "  CA-170:   LA -   10.34 - Lankershim Boulevard – Universal City\n",
      "Checking  https://en.wikipedia.org/wiki/California_State_Route_198\n",
      "  CA-198:  KIN -  R20.98 - SR 43 – Selma, Corcoran\n",
      "Checking  https://en.wikipedia.org/wiki/California_State_Route_215\n",
      "  CA-215:  SBD -   17.75 - I-15 south (Ontario Freeway) – Los Angeles, San Diego\n"
     ]
    }
   ],
   "source": [
    "# Create set of highway information for each road (check example for each to see validity)\n",
    "highways = {}\n",
    "for r in roads:\n",
    "    highways[r] = Highway(r)"
   ]
  },
  {
   "cell_type": "code",
   "execution_count": null,
   "metadata": {
    "collapsed": true
   },
   "outputs": [],
   "source": [
    "def get_exit(highway, road):\n",
    "    d = h_list[highway].exits\n",
    "    for e in sorted(d):\n",
    "        if road in d[e][2]:\n",
    "            return '%4s - %3s - %6s' % (e, d[e][0], d[e][1])\n",
    "    \n",
    "    return 0\n",
    "\n",
    "def get_last_exit(highway, county, postmile):\n",
    "    data = h_list[test_highway]    \n",
    "    \n",
    "    c = postmile[0] if postmile[0].isalpha() else ' '    \n",
    "    f = float(postmile[1:]) if c != ' ' else float(postmile)\n",
    "    \n",
    "    exit = 0\n",
    "    \n",
    "    e_last = 0\n",
    "    c_last = ''\n",
    "    \n",
    "    for e in sorted(data.exits):\n",
    "        t_county = data.exits[e][0]\n",
    "        t_postmile = data.exits[e][1]\n",
    "        \n",
    "        if county != t_county:\n",
    "            continue\n",
    "        \n",
    "        c1 = t_postmile[0] if t_postmile[0].isalpha() else ' '        \n",
    "        f1 = float(t_postmile[1:]) if c1 != ' ' else float(t_postmile)\n",
    "                        \n",
    "        if (c1 == c):\n",
    "            if f1 > f and exit == 0:\n",
    "                exit = e_last\n",
    "                \n",
    "        else:\n",
    "            c_last = c1\n",
    "            \n",
    "        e_last = e\n",
    "            \n",
    "#         print '%4s - %3s - %6s - %s' % (e, data.exits[e][0], data.exits[e][1], data.exits[e][2])\n",
    "        \n",
    "    return exit "
   ]
  },
  {
   "cell_type": "code",
   "execution_count": null,
   "metadata": {
    "collapsed": true
   },
   "outputs": [],
   "source": [
    "test_highway = 'I-280'\n",
    "test_enter = 'De Anza Boulevard'\n",
    "test_exit = 'Eastmoor Avenue'\n",
    "\n",
    "# d = h_list[test_highway].exits\n",
    "# for e in sorted(d):\n",
    "#     print e, d[e]"
   ]
  },
  {
   "cell_type": "code",
   "execution_count": 324,
   "metadata": {
    "ExecuteTime": {
     "end_time": "2017-06-07T00:27:04.991489Z",
     "start_time": "2017-06-07T00:27:04.950304Z"
    }
   },
   "outputs": [
    {
     "name": "stdout",
     "output_type": "stream",
     "text": [
      "  11 - SCL -   9.43\n",
      "  48 -  SM - R25.78\n",
      "\n"
     ]
    },
    {
     "data": {
      "text/plain": [
       "u'33'"
      ]
     },
     "execution_count": 324,
     "metadata": {},
     "output_type": "execute_result"
    }
   ],
   "source": [
    "test_county = 'SM'#'SCL'\n",
    "test_postmile = 'R11.0'#'R2.71'\n",
    "    \n",
    "print get_exit(test_highway, test_enter)\n",
    "print get_exit(test_highway, test_exit)\n",
    "print ''\n",
    "\n",
    "get_last_exit(test_highway, test_county, test_postmile)"
   ]
  },
  {
   "cell_type": "code",
   "execution_count": null,
   "metadata": {
    "collapsed": true
   },
   "outputs": [],
   "source": []
  }
 ],
 "metadata": {
  "kernelspec": {
   "display_name": "Python 2",
   "language": "python",
   "name": "python2"
  },
  "language_info": {
   "codemirror_mode": {
    "name": "ipython",
    "version": 2
   },
   "file_extension": ".py",
   "mimetype": "text/x-python",
   "name": "python",
   "nbconvert_exporter": "python",
   "pygments_lexer": "ipython2",
   "version": "2.7.13"
  }
 },
 "nbformat": 4,
 "nbformat_minor": 2
}
