{
 "cells": [
  {
   "cell_type": "markdown",
   "metadata": {},
   "source": [
    "Create 'database' of road stretches to assign accident probabilities"
   ]
  },
  {
   "cell_type": "code",
   "execution_count": 1,
   "metadata": {
    "ExecuteTime": {
     "end_time": "2017-06-06T17:00:08.456026Z",
     "start_time": "2017-06-06T17:00:07.651322Z"
    },
    "collapsed": true
   },
   "outputs": [],
   "source": [
    "%matplotlib inline\n",
    "\n",
    "import numpy as np\n",
    "import pandas as pd\n",
    "import seaborn as sns\n",
    "import matplotlib.pyplot as plt\n",
    "import sqlite3\n",
    "\n",
    "sns.set(color_codes=True)\n",
    "sns.set_context(rc = {'patch.linewidth': 2.0})\n",
    "plt.rcParams[\"patch.force_edgecolor\"] = True\n",
    "plt.style.use('seaborn-white')"
   ]
  },
  {
   "cell_type": "code",
   "execution_count": 2,
   "metadata": {
    "ExecuteTime": {
     "end_time": "2017-06-06T17:01:27.221383Z",
     "start_time": "2017-06-06T17:01:27.211668Z"
    },
    "collapsed": true
   },
   "outputs": [],
   "source": [
    "def date_columns(query):\n",
    "    \"\"\"If a date column is included in the query, parse it as a date in the\n",
    "    dataframe.\"\"\"\n",
    "    dates = []\n",
    "    fields = [\"Collision_Date\", \"Process_Date\"]\n",
    "    if '*' in query:\n",
    "        dates = fields\n",
    "    else:\n",
    "        for date in fields:\n",
    "            if date in query:\n",
    "                dates.append(date)\n",
    "\n",
    "        if not dates:\n",
    "            dates = None\n",
    "\n",
    "    return dates"
   ]
  },
  {
   "cell_type": "code",
   "execution_count": 6,
   "metadata": {
    "ExecuteTime": {
     "end_time": "2017-06-06T17:02:10.354654Z",
     "start_time": "2017-06-06T17:02:10.350848Z"
    },
    "collapsed": true
   },
   "outputs": [],
   "source": [
    "def run_sql(query, sql_file=\"../data/switrs.sqlite3\"):\n",
    "    with sqlite3.connect(sql_file) as con:\n",
    "        df = pd.read_sql_query(query, con, parse_dates=date_columns(query),)\n",
    "\n",
    "        return df"
   ]
  },
  {
   "cell_type": "code",
   "execution_count": 4,
   "metadata": {
    "ExecuteTime": {
     "end_time": "2017-06-06T17:01:27.955155Z",
     "start_time": "2017-06-06T17:01:27.947466Z"
    },
    "collapsed": true
   },
   "outputs": [],
   "source": [
    "def set_factorize(df, in_name, out_name = '', show = False):\n",
    "    if out_name is '':\n",
    "        out_name = in_name\n",
    "        df[in_name + '_old'] = df[in_name]\n",
    "    \n",
    "    vals, cols = df[in_name].factorize()\n",
    "    \n",
    "    df[in_name] = vals\n",
    "    \n",
    "    if show:\n",
    "        print df[in_name].value_counts()"
   ]
  },
  {
   "cell_type": "code",
   "execution_count": 7,
   "metadata": {
    "ExecuteTime": {
     "end_time": "2017-06-06T17:02:53.353484Z",
     "start_time": "2017-06-06T17:02:13.464788Z"
    },
    "collapsed": true
   },
   "outputs": [],
   "source": [
    "query = \"\"\"\n",
    "SELECT * FROM Collision\n",
    "WHERE Longitude IS NOT NULL \n",
    "AND Latitude IS NOT NULL \n",
    "AND Primary_Road IS NOT NULL\n",
    "AND Collision_Time IS NOT NULL\n",
    "AND Caltrans_County IS NOT NULL\n",
    "\"\"\"\n",
    "\n",
    "df_loc = run_sql(query)"
   ]
  },
  {
   "cell_type": "code",
   "execution_count": 8,
   "metadata": {
    "ExecuteTime": {
     "end_time": "2017-06-06T17:03:12.933268Z",
     "start_time": "2017-06-06T17:03:00.356394Z"
    },
    "collapsed": true
   },
   "outputs": [],
   "source": [
    "df_loc['Collision_Year']      = df_loc.Collision_Date.dt.year\n",
    "df_loc['Collision_Month']     = df_loc.Collision_Date.dt.month\n",
    "df_loc['Collision_Day']       = df_loc.Collision_Date.dt.day\n",
    "df_loc['Collision_DayOfWeek'] = df_loc.Collision_Date.dt.dayofweek \n",
    "\n",
    "df_loc['Collision_Hour']   = df_loc.Collision_Time.str.split(':', n=3, expand=True).apply(pd.Series).astype(int)[0]\n",
    "df_loc['Collision_Minute'] = df_loc.Collision_Time.str.split(':', n=3, expand=True).apply(pd.Series).astype(int)[1]\n",
    "\n",
    "df_loc['Collision_Hours']  = df_loc.Collision_Hour + df_loc.Collision_Minute / 60.0\n",
    "df_loc['Collision_Minutes'] = 60 * df_loc.Collision_Hour + df_loc.Collision_Minute\n",
    "\n",
    "df_loc['Postmile_Code'] = df_loc.Postmile_Prefix + df_loc.Postmile.astype(str)"
   ]
  },
  {
   "cell_type": "code",
   "execution_count": null,
   "metadata": {
    "collapsed": true
   },
   "outputs": [],
   "source": [
    "df_highway = df_loc[(~df_loc.Postmile_Code.isnull()) & (~df_loc.Caltrans_County.isnull())]"
   ]
  },
  {
   "cell_type": "code",
   "execution_count": 80,
   "metadata": {
    "ExecuteTime": {
     "end_time": "2017-06-06T18:23:54.820627Z",
     "start_time": "2017-06-06T18:23:54.809661Z"
    }
   },
   "outputs": [
    {
     "name": "stdout",
     "output_type": "stream",
     "text": [
      "[1.0, 4.0, 5.0, 8.0, 10.0, 14.0, 15.0, 22.0, 24.0, 40.0, 41.0, 50.0, 55.0, 57.0, 58.0, 60.0, 80.0, 85.0, 91.0, 92.0, 99.0, 101.0, 105.0, 118.0, 120.0, 126.0, 134.0, 170.0, 198.0, 205.0, 210.0, 215.0, 280.0, 580.0, 605.0, 680.0]\n"
     ]
    }
   ],
   "source": [
    "s = df_highway.State_Route.value_counts()\n",
    "\n",
    "print sorted(s[s > 1000].index)"
   ]
  },
  {
   "cell_type": "code",
   "execution_count": 89,
   "metadata": {
    "ExecuteTime": {
     "end_time": "2017-06-06T21:44:16.827765Z",
     "start_time": "2017-06-06T21:44:16.764541Z"
    }
   },
   "outputs": [
    {
     "data": {
      "text/html": [
       "<div>\n",
       "<table border=\"1\" class=\"dataframe\">\n",
       "  <thead>\n",
       "    <tr style=\"text-align: right;\">\n",
       "      <th></th>\n",
       "      <th>Case_ID</th>\n",
       "      <th>Caltrans_County</th>\n",
       "      <th>Postmile_Code</th>\n",
       "      <th>State_Route</th>\n",
       "      <th>Direction</th>\n",
       "    </tr>\n",
       "  </thead>\n",
       "  <tbody>\n",
       "    <tr>\n",
       "      <th>737535</th>\n",
       "      <td>6144131</td>\n",
       "      <td>SF</td>\n",
       "      <td>R1.45</td>\n",
       "      <td>280.0</td>\n",
       "      <td>S</td>\n",
       "    </tr>\n",
       "    <tr>\n",
       "      <th>668272</th>\n",
       "      <td>6203810</td>\n",
       "      <td>SCL</td>\n",
       "      <td>R2.02</td>\n",
       "      <td>280.0</td>\n",
       "      <td>N</td>\n",
       "    </tr>\n",
       "    <tr>\n",
       "      <th>364066</th>\n",
       "      <td>5140735</td>\n",
       "      <td>SF</td>\n",
       "      <td>R5.63</td>\n",
       "      <td>280.0</td>\n",
       "      <td>N</td>\n",
       "    </tr>\n",
       "    <tr>\n",
       "      <th>263152</th>\n",
       "      <td>4834645</td>\n",
       "      <td>SCL</td>\n",
       "      <td>R2.365</td>\n",
       "      <td>280.0</td>\n",
       "      <td>N</td>\n",
       "    </tr>\n",
       "    <tr>\n",
       "      <th>429585</th>\n",
       "      <td>5325620</td>\n",
       "      <td>SCL</td>\n",
       "      <td>R0.44</td>\n",
       "      <td>280.0</td>\n",
       "      <td>N</td>\n",
       "    </tr>\n",
       "    <tr>\n",
       "      <th>361036</th>\n",
       "      <td>5131989</td>\n",
       "      <td>SCL</td>\n",
       "      <td>R3.28</td>\n",
       "      <td>280.0</td>\n",
       "      <td>N</td>\n",
       "    </tr>\n",
       "    <tr>\n",
       "      <th>889559</th>\n",
       "      <td>6595425</td>\n",
       "      <td>SCL</td>\n",
       "      <td>L5.03</td>\n",
       "      <td>280.0</td>\n",
       "      <td>N</td>\n",
       "    </tr>\n",
       "    <tr>\n",
       "      <th>484659</th>\n",
       "      <td>5499992</td>\n",
       "      <td>SM</td>\n",
       "      <td>M27.11</td>\n",
       "      <td>280.0</td>\n",
       "      <td>S</td>\n",
       "    </tr>\n",
       "    <tr>\n",
       "      <th>740521</th>\n",
       "      <td>6157150</td>\n",
       "      <td>SCL</td>\n",
       "      <td>R2.71</td>\n",
       "      <td>280.0</td>\n",
       "      <td>N</td>\n",
       "    </tr>\n",
       "    <tr>\n",
       "      <th>804319</th>\n",
       "      <td>6365932</td>\n",
       "      <td>SF</td>\n",
       "      <td>R6.62</td>\n",
       "      <td>280.0</td>\n",
       "      <td>N</td>\n",
       "    </tr>\n",
       "    <tr>\n",
       "      <th>735665</th>\n",
       "      <td>6135876</td>\n",
       "      <td>SM</td>\n",
       "      <td>R24.24</td>\n",
       "      <td>280.0</td>\n",
       "      <td>N</td>\n",
       "    </tr>\n",
       "    <tr>\n",
       "      <th>643573</th>\n",
       "      <td>6014384</td>\n",
       "      <td>SM</td>\n",
       "      <td>M27.1</td>\n",
       "      <td>280.0</td>\n",
       "      <td>S</td>\n",
       "    </tr>\n",
       "    <tr>\n",
       "      <th>521582</th>\n",
       "      <td>5843264</td>\n",
       "      <td>SM</td>\n",
       "      <td>R24.63</td>\n",
       "      <td>280.0</td>\n",
       "      <td>N</td>\n",
       "    </tr>\n",
       "    <tr>\n",
       "      <th>666632</th>\n",
       "      <td>6192106</td>\n",
       "      <td>SF</td>\n",
       "      <td>T7.26</td>\n",
       "      <td>280.0</td>\n",
       "      <td>N</td>\n",
       "    </tr>\n",
       "    <tr>\n",
       "      <th>949030</th>\n",
       "      <td>6748248</td>\n",
       "      <td>SF</td>\n",
       "      <td>R1.557</td>\n",
       "      <td>280.0</td>\n",
       "      <td>S</td>\n",
       "    </tr>\n",
       "    <tr>\n",
       "      <th>724313</th>\n",
       "      <td>6084369</td>\n",
       "      <td>SM</td>\n",
       "      <td>R13.07</td>\n",
       "      <td>280.0</td>\n",
       "      <td>N</td>\n",
       "    </tr>\n",
       "    <tr>\n",
       "      <th>272392</th>\n",
       "      <td>4863349</td>\n",
       "      <td>SCL</td>\n",
       "      <td>R2.699</td>\n",
       "      <td>280.0</td>\n",
       "      <td>N</td>\n",
       "    </tr>\n",
       "    <tr>\n",
       "      <th>495663</th>\n",
       "      <td>5600333</td>\n",
       "      <td>SCL</td>\n",
       "      <td>L5.052</td>\n",
       "      <td>280.0</td>\n",
       "      <td>None</td>\n",
       "    </tr>\n",
       "    <tr>\n",
       "      <th>1025647</th>\n",
       "      <td>6948167</td>\n",
       "      <td>SM</td>\n",
       "      <td>R17.89</td>\n",
       "      <td>280.0</td>\n",
       "      <td>S</td>\n",
       "    </tr>\n",
       "    <tr>\n",
       "      <th>821016</th>\n",
       "      <td>6416133</td>\n",
       "      <td>SM</td>\n",
       "      <td>R5.41</td>\n",
       "      <td>280.0</td>\n",
       "      <td>N</td>\n",
       "    </tr>\n",
       "  </tbody>\n",
       "</table>\n",
       "</div>"
      ],
      "text/plain": [
       "         Case_ID Caltrans_County Postmile_Code  State_Route Direction\n",
       "737535   6144131              SF         R1.45        280.0         S\n",
       "668272   6203810             SCL         R2.02        280.0         N\n",
       "364066   5140735              SF         R5.63        280.0         N\n",
       "263152   4834645             SCL        R2.365        280.0         N\n",
       "429585   5325620             SCL         R0.44        280.0         N\n",
       "361036   5131989             SCL         R3.28        280.0         N\n",
       "889559   6595425             SCL         L5.03        280.0         N\n",
       "484659   5499992              SM        M27.11        280.0         S\n",
       "740521   6157150             SCL         R2.71        280.0         N\n",
       "804319   6365932              SF         R6.62        280.0         N\n",
       "735665   6135876              SM        R24.24        280.0         N\n",
       "643573   6014384              SM         M27.1        280.0         S\n",
       "521582   5843264              SM        R24.63        280.0         N\n",
       "666632   6192106              SF         T7.26        280.0         N\n",
       "949030   6748248              SF        R1.557        280.0         S\n",
       "724313   6084369              SM        R13.07        280.0         N\n",
       "272392   4863349             SCL        R2.699        280.0         N\n",
       "495663   5600333             SCL        L5.052        280.0      None\n",
       "1025647  6948167              SM        R17.89        280.0         S\n",
       "821016   6416133              SM         R5.41        280.0         N"
      ]
     },
     "execution_count": 89,
     "metadata": {},
     "output_type": "execute_result"
    }
   ],
   "source": [
    "cols = ['Case_ID', 'Caltrans_County', 'Postmile_Code', 'State_Route', 'Direction']\n",
    "\n",
    "df_highway[cols][df_highway.State_Route == 280].sample(20)"
   ]
  },
  {
   "cell_type": "code",
   "execution_count": 79,
   "metadata": {
    "ExecuteTime": {
     "end_time": "2017-06-06T18:22:34.183972Z",
     "start_time": "2017-06-06T18:22:34.172948Z"
    }
   },
   "outputs": [
    {
     "name": "stdout",
     "output_type": "stream",
     "text": [
      "Case_ID\n",
      "Jurisdiction\n",
      "Officer_ID\n",
      "Reporting_District\n",
      "CHP_Shift\n",
      "Population\n",
      "County_City_Location\n",
      "Special_Condition\n",
      "Beat_Type\n",
      "CHP_Beat_Type\n",
      "City_Division_LAPD\n",
      "CHP_Beat_Class\n",
      "Beat_Number\n",
      "Primary_Road\n",
      "Secondary_Road\n",
      "Distance\n",
      "Direction\n",
      "Intersection\n",
      "Weather_1\n",
      "Weather_2\n",
      "State_Highway_Indicator\n",
      "Caltrans_County\n",
      "Caltrans_District\n",
      "State_Route\n",
      "Route_Suffix\n",
      "Postmile_Prefix\n",
      "Postmile\n",
      "Location_Type\n",
      "Ramp_Intersection\n",
      "Side_Of_Highway\n",
      "Tow_Away\n",
      "Collision_Severity\n",
      "Killed_Victims\n",
      "Injured_Victims\n",
      "Party_Count\n",
      "Primary_Collision_Factor\n",
      "PCF_Violation_Code\n",
      "PCF_Violation_Category\n",
      "PCF_Violation\n",
      "PCF_Violation_Subsection\n",
      "Hit_And_Run\n",
      "Type_Of_Collision\n",
      "Motor_Vehicle_Involved_With\n",
      "Ped_Action\n",
      "Road_Surface\n",
      "Road_Condition_1\n",
      "Road_Condition_2\n",
      "Lighting\n",
      "Control_Device\n",
      "CHP_Road_Type\n",
      "Pedestrian_Collision\n",
      "Bicycle_Collision\n",
      "Motorcycle_Collision\n",
      "Truck_Collision\n",
      "Not_Private_Property\n",
      "Alcohol_Involved\n",
      "Statewide_Vehicle_Type_At_Fault\n",
      "CHP_Vehicle_Type_At_Fault\n",
      "Severe_Injury_Count\n",
      "Other_Visible_Injury_Count\n",
      "Complaint_Of_Pain_Injury_Count\n",
      "Pedestrian_Killed_Count\n",
      "Pedestrian_Injured_Count\n",
      "Bicyclist_Killed_Count\n",
      "Bicyclist_Injured_Count\n",
      "Motorcyclist_Killed_Count\n",
      "Motorcyclist_Injured_Count\n",
      "Primary_Ramp\n",
      "Secondary_Ramp\n",
      "Latitude\n",
      "Longitude\n",
      "Collision_Date\n",
      "Collision_Time\n",
      "Process_Date\n",
      "Collision_Year\n",
      "Collision_Month\n",
      "Collision_Day\n",
      "Collision_DayOfWeek\n",
      "Collision_Hour\n",
      "Collision_Minute\n",
      "Collision_Hours\n",
      "Collision_Minutes\n",
      "Postmile_Code\n"
     ]
    }
   ],
   "source": [
    "for c in df_loc.columns:\n",
    "    print c"
   ]
  }
 ],
 "metadata": {
  "kernelspec": {
   "display_name": "Python 2",
   "language": "python",
   "name": "python2"
  },
  "language_info": {
   "codemirror_mode": {
    "name": "ipython",
    "version": 2
   },
   "file_extension": ".py",
   "mimetype": "text/x-python",
   "name": "python",
   "nbconvert_exporter": "python",
   "pygments_lexer": "ipython2",
   "version": "2.7.13"
  }
 },
 "nbformat": 4,
 "nbformat_minor": 2
}
